{
  "nbformat": 4,
  "nbformat_minor": 0,
  "metadata": {
    "colab": {
      "provenance": [],
      "authorship_tag": "ABX9TyP7mDRT++w4LlL8QVkfK/pP",
      "include_colab_link": true
    },
    "kernelspec": {
      "name": "python3",
      "display_name": "Python 3"
    },
    "language_info": {
      "name": "python"
    }
  },
  "cells": [
    {
      "cell_type": "markdown",
      "metadata": {
        "id": "view-in-github",
        "colab_type": "text"
      },
      "source": [
        "<a href=\"https://colab.research.google.com/github/shruthika77/deep-learning/blob/main/xor_problem.ipynb\" target=\"_parent\"><img src=\"https://colab.research.google.com/assets/colab-badge.svg\" alt=\"Open In Colab\"/></a>"
      ]
    },
    {
      "cell_type": "code",
      "source": [
        "#solving xor problem using dnn\n",
        "\n",
        "import tensorflow as tf\n",
        "import numpy as np\n",
        "# Define the XOR input data\n",
        "x_train = np.array([[0, 0], [0, 1], [-1, 0], [1, 1]], dtype=np.float32)\n",
        "y_train = np.array([[0], [1], [1], [0]], dtype=np.float32)\n",
        "# Define the model architecture\n",
        "model = tf.keras.Sequential([\n",
        "    tf.keras.layers.Dense(8, input_dim=2, activation='relu'),\n",
        "    tf.keras.layers.Dense(8, activation='relu'),\n",
        "    tf.keras.layers.Dense(1, activation='sigmoid')\n",
        "])\n",
        "# Compile the model\n",
        "model.compile(loss='binary_crossentropy', optimizer='adam', metrics=['accuracy'])\n",
        "# Train the model\n",
        "model.fit(x_train, y_train, epochs=1000, verbose=0)\n",
        "# Evaluate the model\n",
        "loss, accuracy = model.evaluate(x_train, y_train)\n",
        "print(f\"Loss: {loss}, Accuracy: {accuracy}\")\n",
        "# Make predictions\n",
        "predictions = model.predict(x_train)\n",
        "rounded_predictions = np.round(predictions)\n",
        "print(f\"Predictions: {rounded_predictions}\")"
      ],
      "metadata": {
        "colab": {
          "base_uri": "https://localhost:8080/"
        },
        "id": "obh_FAB5hSfA",
        "outputId": "59bac9dd-63a6-4995-c48a-e5abd6a88cc6"
      },
      "execution_count": 2,
      "outputs": [
        {
          "output_type": "stream",
          "name": "stdout",
          "text": [
            "1/1 [==============================] - 0s 269ms/step - loss: 0.0243 - accuracy: 1.0000\n",
            "Loss: 0.024258822202682495, Accuracy: 1.0\n",
            "1/1 [==============================] - 0s 193ms/step\n",
            "Predictions: [[0.]\n",
            " [1.]\n",
            " [1.]\n",
            " [0.]]\n"
          ]
        }
      ]
    },
    {
      "cell_type": "code",
      "source": [],
      "metadata": {
        "id": "bO3foRpVlr82"
      },
      "execution_count": null,
      "outputs": []
    }
  ]
}