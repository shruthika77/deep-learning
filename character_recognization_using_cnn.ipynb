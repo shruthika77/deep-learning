{
  "nbformat": 4,
  "nbformat_minor": 0,
  "metadata": {
    "colab": {
      "provenance": [],
      "authorship_tag": "ABX9TyP5p4Ppyq4WZD9ejOM4Hfqi",
      "include_colab_link": true
    },
    "kernelspec": {
      "name": "python3",
      "display_name": "Python 3"
    },
    "language_info": {
      "name": "python"
    }
  },
  "cells": [
    {
      "cell_type": "markdown",
      "metadata": {
        "id": "view-in-github",
        "colab_type": "text"
      },
      "source": [
        "<a href=\"https://colab.research.google.com/github/shruthika77/deep-learning/blob/main/character_recognization_using_cnn.ipynb\" target=\"_parent\"><img src=\"https://colab.research.google.com/assets/colab-badge.svg\" alt=\"Open In Colab\"/></a>"
      ]
    },
    {
      "cell_type": "code",
      "execution_count": 1,
      "metadata": {
        "colab": {
          "base_uri": "https://localhost:8080/"
        },
        "id": "k1rNf2T9rLC6",
        "outputId": "985d7bcb-eb2b-4489-9be4-192b4ae7923b"
      },
      "outputs": [
        {
          "output_type": "stream",
          "name": "stdout",
          "text": [
            "Downloading data from https://storage.googleapis.com/tensorflow/tf-keras-datasets/mnist.npz\n",
            "11490434/11490434 [==============================] - 0s 0us/step\n",
            "Epoch 1/5\n",
            "469/469 [==============================] - 37s 76ms/step - loss: 0.2378 - accuracy: 0.9300 - val_loss: 0.0804 - val_accuracy: 0.9743\n",
            "Epoch 2/5\n",
            "469/469 [==============================] - 34s 72ms/step - loss: 0.0634 - accuracy: 0.9806 - val_loss: 0.0441 - val_accuracy: 0.9853\n",
            "Epoch 3/5\n",
            "469/469 [==============================] - 32s 69ms/step - loss: 0.0455 - accuracy: 0.9862 - val_loss: 0.0386 - val_accuracy: 0.9880\n",
            "Epoch 4/5\n",
            "469/469 [==============================] - 32s 67ms/step - loss: 0.0355 - accuracy: 0.9889 - val_loss: 0.0406 - val_accuracy: 0.9871\n",
            "Epoch 5/5\n",
            "469/469 [==============================] - 32s 69ms/step - loss: 0.0287 - accuracy: 0.9913 - val_loss: 0.0318 - val_accuracy: 0.9891\n",
            "313/313 [==============================] - 2s 5ms/step - loss: 0.0318 - accuracy: 0.9891\n",
            "Loss: 0.031786371022462845, Accuracy: 0.9890999794006348\n"
          ]
        }
      ],
      "source": [
        "# character recognization usiing cnn\n",
        "import tensorflow as tf\n",
        "from tensorflow.keras.datasets import mnist\n",
        "from tensorflow.keras.models import Sequential\n",
        "from tensorflow.keras.layers import Conv2D, MaxPooling2D, Flatten, Dense\n",
        "# Load the MNIST dataset\n",
        "(x_train, y_train), (x_test, y_test) = mnist.load_data()\n",
        "# Preprocess the data\n",
        "x_train = x_train.reshape(-1, 28, 28, 1).astype('float32') / 255.0\n",
        "x_test = x_test.reshape(-1, 28, 28, 1).astype('float32') / 255.0\n",
        "y_train = tf.keras.utils.to_categorical(y_train)\n",
        "y_test = tf.keras.utils.to_categorical(y_test)\n",
        "# Define the model architecture\n",
        "model = Sequential()\n",
        "model.add(Conv2D(32, (3, 3), activation='relu', input_shape=(28, 28, 1)))\n",
        "model.add(MaxPooling2D((2, 2)))\n",
        "model.add(Conv2D(64, (3, 3), activation='relu'))\n",
        "model.add(MaxPooling2D((2, 2)))\n",
        "model.add(Flatten())\n",
        "model.add(Dense(64, activation='relu'))\n",
        "model.add(Dense(10, activation='softmax'))\n",
        "# Compile the model\n",
        "model.compile(optimizer='adam', loss='categorical_crossentropy', metrics=['accuracy'])\n",
        "# Train the model\n",
        "model.fit(x_train, y_train, epochs=5, batch_size=128, validation_data=(x_test, y_test))\n",
        "# Evaluate the model\n",
        "loss, accuracy = model.evaluate(x_test, y_test)\n",
        "print(f\"Loss: {loss}, Accuracy: {accuracy}\")\n"
      ]
    }
  ]
}